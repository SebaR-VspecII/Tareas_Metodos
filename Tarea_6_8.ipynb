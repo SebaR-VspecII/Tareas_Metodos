{
  "nbformat": 4,
  "nbformat_minor": 0,
  "metadata": {
    "colab": {
      "provenance": []
    },
    "kernelspec": {
      "name": "python3",
      "display_name": "Python 3"
    },
    "language_info": {
      "name": "python"
    }
  },
  "cells": [
    {
      "cell_type": "code",
      "source": [
        "import numpy as np\n",
        "from scipy.interpolate import lagrange\n",
        "\n",
        "# ==============================\n",
        "# Parte 1: Primero veremos la primera parte del enunciado entre x = 0 y x = 2\n",
        "# ==============================\n",
        "\n",
        "media = 0\n",
        "varianza = 1\n",
        "\n",
        "def gaussiana(x):\n",
        "  return np.exp(-((x-media)**2) / (2*varianza**2))\n",
        "\n",
        "# Puntos para la interpolacion\n",
        "\n",
        "x_ptos = np.linspace(0, 2, 10) # 10 puntos separados\n",
        "y_ptos = gaussiana(x_ptos)\n",
        "\n",
        "# El polinomio para nuestra interpolacion de lagrange\n",
        "polinomio = lagrange(x_ptos, y_ptos)\n",
        "\n",
        "# Ahora se evalua dentro del intervalo establecido\n",
        "x_eval = np.linspace(0, 2, 5)\n",
        "print(\"=== Parte 1: Aproximacion en [0, 2] ===\")\n",
        "for x in x_eval:\n",
        "  print(f\"x = {x:.2f} | f(x) real = {gaussiana(x):.8f} | f(x) aprox = {polinomio(x):.8f}\")\n",
        "\n",
        "print(\"\\nEl polinomio interpolante de Lagrange reproduce muy bien la gaussiana dentro del intervalo [0, 2].\")\n",
        "\n",
        "\n",
        "# ==============================\n",
        "# Parte 2: Pregunta\n",
        "# ==============================\n",
        "\n",
        "prueb_x = 3\n",
        "f_real = gaussiana(prueb_x)\n",
        "f_aprox = polinomio(prueb_x)\n",
        "error_relativo = np.abs((f_real - f_aprox) / f_real)\n",
        "\n",
        "print(\"\\n=== Parte 2: Aproximacion en x = 3 ===\")\n",
        "print(f\"Valor real f({prueb_x}) = {f_real:.6f}\")\n",
        "print(f\"Valor aproximado f({prueb_x}) = {f_aprox:.6f}\")\n",
        "print(f\"Error relativo = {error_relativo:.6f}\")\n",
        "\n",
        "# Argumentacion Teorica\n",
        "print(\"\\nArgumento:\")\n",
        "print(\"Dentro del intervalo [0, 2], el polinomia se aproxima bien a la funcion. Pero en x = 3, siendo fuera del rango de interpolacion, el error crece demasiado.\")\n",
        "print(\"Esto ocurre porque los polinomios de Lagrange solo son precisos dentro del intervalo de los puntos usados; fuera de el, la extrapolacion produce oscilaciones y errores muy grandes.\")\n",
        "print(\"Por lo tanto, no se puede usar el mismo polinomio para aproximar la gaussiana en x = 3.\")\n",
        "\n",
        "\n",
        "\n",
        "\n"
      ],
      "metadata": {
        "colab": {
          "base_uri": "https://localhost:8080/"
        },
        "id": "ey_jUedzyqt6",
        "outputId": "8f942cc4-8e0a-40c1-f9ca-05c3d5bb8657"
      },
      "execution_count": 16,
      "outputs": [
        {
          "output_type": "stream",
          "name": "stdout",
          "text": [
            "=== Parte 1: Aproximacion en [0, 2] ===\n",
            "x = 0.00 | f(x) real = 1.00000000 | f(x) aprox = 1.00000000\n",
            "x = 0.50 | f(x) real = 0.88249690 | f(x) aprox = 0.88249699\n",
            "x = 1.00 | f(x) real = 0.60653066 | f(x) aprox = 0.60653070\n",
            "x = 1.50 | f(x) real = 0.32465247 | f(x) aprox = 0.32465255\n",
            "x = 2.00 | f(x) real = 0.13533528 | f(x) aprox = 0.13533528\n",
            "\n",
            "El polinomio interpolante de Lagrange reproduce muy bien la gaussiana dentro del intervalo [0, 2].\n",
            "\n",
            "=== Parte 2: Aproximacion en x = 3 ===\n",
            "Valor real f(3) = 0.011109\n",
            "Valor aproximado f(3) = -0.058864\n",
            "Error relativo = 6.298757\n",
            "\n",
            "Argumento:\n",
            "Dentro del intervalo [0, 2], el polinomia se aproxima bien a la funcion. Pero en x = 3, siendo fuera del rango de interpolacion, el error crece demasiado.\n",
            "Esto ocurre porque los polinomios de Lagrange solo son precisos dentro del intervalo de los puntos usados; fuera de el, la extrapolacion produce oscilaciones y errores muy grandes.\n",
            "Por lo tanto, no se puede usar el mismo polinomio para aproximar la gaussiana en x = 3.\n"
          ]
        }
      ]
    }
  ]
}